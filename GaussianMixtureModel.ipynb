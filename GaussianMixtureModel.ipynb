{
  "nbformat": 4,
  "nbformat_minor": 0,
  "metadata": {
    "colab": {
      "name": "GaussianMixtureModel.ipynb",
      "provenance": [],
      "authorship_tag": "ABX9TyMmJh51macKNRMbCQAacXvP",
      "include_colab_link": true
    },
    "kernelspec": {
      "name": "python3",
      "display_name": "Python 3"
    },
    "language_info": {
      "name": "python"
    }
  },
  "cells": [
    {
      "cell_type": "markdown",
      "metadata": {
        "id": "view-in-github",
        "colab_type": "text"
      },
      "source": [
        "<a href=\"https://colab.research.google.com/github/akhaire21/Python-Projects/blob/master/GaussianMixtureModel.ipynb\" target=\"_parent\"><img src=\"https://colab.research.google.com/assets/colab-badge.svg\" alt=\"Open In Colab\"/></a>"
      ]
    },
    {
      "cell_type": "code",
      "execution_count": null,
      "metadata": {
        "id": "6Gzn3J70dO4B"
      },
      "outputs": [],
      "source": [
        "# example of fitting a gaussian mixture model with expectation maximization\n",
        "from numpy import hstack\n",
        "from numpy.random import normal\n",
        "from sklearn.mixture import GaussianMixture\n",
        "# generate a sample\n",
        "X1 = normal(loc=20, scale=5, size=3000)\n",
        "X2 = normal(loc=40, scale=5, size=7000)\n",
        "X = hstack((X1, X2))"
      ]
    },
    {
      "cell_type": "code",
      "source": [
        "# plot the histogram\n",
        "from matplotlib import pyplot\n",
        "pyplot.hist(X, bins=50, density=True)\n",
        "pyplot.show()"
      ],
      "metadata": {
        "colab": {
          "base_uri": "https://localhost:8080/",
          "height": 265
        },
        "id": "PMnWtVEtdtgK",
        "outputId": "53fc28e8-55cd-4130-8e7f-6304fad33ec7"
      },
      "execution_count": null,
      "outputs": [
        {
          "output_type": "display_data",
          "data": {
            "text/plain": [
              "<Figure size 432x288 with 1 Axes>"
            ],
            "image/png": "[encoded data removed]"
          },
          "metadata": {
            "needs_background": "light"
          }
        }
      ]
    },
    {
      "cell_type": "markdown",
      "source": [
        "We can model the problem of estimating the density of this dataset using a Gaussian Mixture Model.\n",
        "The GaussianMixture scikit-learn class can be used to model this problem and estimate the parameters of the distributions using the expectation-maximization algorithm."
      ],
      "metadata": {
        "id": "5VIyUN8sefPa"
      }
    },
    {
      "cell_type": "code",
      "source": [
        "# reshape into a table with one column\n",
        "X = X.reshape((len(X), 1))\n",
        "# fit model\n",
        "#The class allows us to specify the suspected number of underlying processes \n",
        "#used to generate the data via the n_components argument when defining the model \n",
        "#We will set this to 2 for the two processes or distributions.\n",
        "\n",
        "#If the number of processes was not known, a range of different numbers of \n",
        "#components could be tested and the model with the best fit could be chosen, \n",
        "#where models could be evaluated using scores such as Akaike or \n",
        "#Bayesian Information Criterion (AIC or BIC).\n",
        "\n",
        "model = GaussianMixture(n_components=2, init_params='random')\n",
        "model.fit(X)"
      ],
      "metadata": {
        "colab": {
          "base_uri": "https://localhost:8080/"
        },
        "id": "jkC9DLlee641",
        "outputId": "d10aa200-2613-4d8e-9350-e77147481dbb"
      },
      "execution_count": null,
      "outputs": [
        {
          "output_type": "execute_result",
          "data": {
            "text/plain": [
              "GaussianMixture(init_params='random', n_components=2)"
            ]
          },
          "metadata": {},
          "execution_count": 4
        }
      ]
    },
    {
      "cell_type": "markdown",
      "source": [
        "Once the model is fit, we can access the learned parameters via arguments on the model, such as the means, covariances, mixing weights, and more.\n",
        "\n",
        "More usefully, we can use the fit model to estimate the latent parameters for existing and new data points.\n",
        "\n",
        "For example, we can estimate the latent variable for the points in the training dataset and we would expect the first 3,000 points to belong to one process (e.g. value=1) and the next 7,000 data points to belong to a different process (e.g. value=0)."
      ],
      "metadata": {
        "id": "_n-EDiVMgFUx"
      }
    },
    {
      "cell_type": "code",
      "source": [
        "# predict latent values\n",
        "yhat = model.predict(X)\n",
        "# check latent value for first few points\n",
        "print(yhat[:100])\n",
        "# check latent value for last few points\n",
        "print(yhat[-100:])"
      ],
      "metadata": {
        "colab": {
          "base_uri": "https://localhost:8080/"
        },
        "id": "CClTqv1bdlpq",
        "outputId": "6a14bbac-ea78-4b9b-9b01-9d7d6d531625"
      },
      "execution_count": null,
      "outputs": [
        {
          "output_type": "stream",
          "name": "stdout",
          "text": [
            "[1 1 1 1 1 1 1 1 1 1 1 0 1 1 1 1 1 1 1 1 1 1 1 1 1 1 1 1 1 1 1 1 1 1 1 0 1\n",
            " 1 1 1 1 1 1 1 1 1 1 1 1 1 1 1 1 1 1 1 1 1 1 1 1 1 1 1 1 1 1 0 1 1 1 1 1 1\n",
            " 1 1 1 1 1 1 1 1 1 1 1 1 1 1 1 1 1 1 1 1 1 1 1 1 1 1]\n",
            "[0 0 0 0 0 0 0 0 0 0 0 0 0 0 0 0 0 0 0 0 0 0 0 0 0 0 0 0 0 0 0 0 0 0 0 0 0\n",
            " 0 0 0 0 0 0 0 0 0 0 0 0 0 0 0 0 0 0 0 0 0 0 0 0 0 0 0 0 0 0 0 0 0 0 0 0 0\n",
            " 0 0 0 0 0 0 0 0 0 0 0 0 0 0 0 0 0 0 0 0 0 0 0 0 0 0]\n"
          ]
        }
      ]
    }
  ]
}