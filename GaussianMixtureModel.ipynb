{
  "nbformat": 4,
  "nbformat_minor": 0,
  "metadata": {
    "colab": {
      "name": "GaussianMixtureModel.ipynb",
      "provenance": [],
      "authorship_tag": "ABX9TyPjr8TntWRqD5xSuYa2iCjV",
      "include_colab_link": true
    },
    "kernelspec": {
      "name": "python3",
      "display_name": "Python 3"
    },
    "language_info": {
      "name": "python"
    }
  },
  "cells": [
    {
      "cell_type": "markdown",
      "metadata": {
        "id": "view-in-github",
        "colab_type": "text"
      },
      "source": [
        "<a href=\"https://colab.research.google.com/github/akhaire21/Python-Projects/blob/master/GaussianMixtureModel.ipynb\" target=\"_parent\"><img src=\"https://colab.research.google.com/assets/colab-badge.svg\" alt=\"Open In Colab\"/></a>"
      ]
    },
    {
      "cell_type": "code",
      "execution_count": 1,
      "metadata": {
        "id": "6Gzn3J70dO4B"
      },
      "outputs": [],
      "source": [
        "# example of fitting a gaussian mixture model with expectation maximization\n",
        "from numpy import hstack\n",
        "from numpy.random import normal\n",
        "from sklearn.mixture import GaussianMixture\n",
        "# generate a sample\n",
        "X1 = normal(loc=20, scale=5, size=3000)\n",
        "X2 = normal(loc=40, scale=5, size=7000)\n",
        "X = hstack((X1, X2))"
      ]
    },
    {
      "cell_type": "code",
      "source": [],
      "metadata": {
        "id": "PMnWtVEtdtgK"
      },
      "execution_count": null,
      "outputs": []
    },
    {
      "cell_type": "code",
      "source": [
        "# reshape into a table with one column\n",
        "X = X.reshape((len(X), 1))\n",
        "# fit model\n",
        "model = GaussianMixture(n_components=2, init_params='random')\n",
        "model.fit(X)\n",
        "# predict latent values\n",
        "yhat = model.predict(X)\n",
        "# check latent value for first few points\n",
        "print(yhat[:100])\n",
        "# check latent value for last few points\n",
        "print(yhat[-100:])"
      ],
      "metadata": {
        "id": "CClTqv1bdlpq"
      },
      "execution_count": null,
      "outputs": []
    }
  ]
}