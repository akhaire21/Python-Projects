{
 "cells": [
  {
   "cell_type": "markdown",
   "metadata": {},
   "source": [
    "# **Introduction Section**"
   ]
  },
  {
   "cell_type": "markdown",
   "metadata": {},
   "source": [
    "## Background:"
   ]
  },
  {
   "cell_type": "markdown",
   "metadata": {},
   "source": [
    "I am a programming enthusiast who is planning to move to Manhattan, New York in order to further my education at New York University. There are no spots left for on - campus housing, so I must find a place to live nearby that provides everything I need. Some of my requirements include close access to a subway station, restaurants, entertainment, and a  cheap living space. I have decided to use the knowledge I obtained from Coursera to find a living space that fits all of my requirements."
   ]
  },
  {
   "cell_type": "markdown",
   "metadata": {},
   "source": [
    "## Problem:"
   ]
  },
  {
   "cell_type": "markdown",
   "metadata": {},
   "source": [
    "My challenge is to find a rental that conforms to the following conditions:\n",
    "1. An apartment with a minimum of 2 bedrooms and a monthly rent not to exceed US $7000/month.\n",
    "2. The location is within 1 mile of a subway station.\n",
    "3. The neighborhood has close access to restaurants, entertainment, etc."
   ]
  },
  {
   "cell_type": "markdown",
   "metadata": {},
   "source": [
    "## Audience:"
   ]
  },
  {
   "cell_type": "markdown",
   "metadata": {},
   "source": [
    "This project is applicable to all persons considering a move to New York or related cities. The use of mapping, FourSquare, and analyzing data will allow us to resolve this issue and provide a baseline for which anyone may find housing with similar requirements. "
   ]
  },
  {
   "cell_type": "markdown",
   "metadata": {},
   "source": [
    "# **Data Section**"
   ]
  },
  {
   "cell_type": "markdown",
   "metadata": {},
   "source": [
    "## Data Needed:"
   ]
  },
  {
   "cell_type": "markdown",
   "metadata": {},
   "source": [
    "For this project, I will need the following data: \n",
    "1. Information on Manhattan neighborhoods and their latitude/longitude.\n",
    "2. Information about the subway stations and their latitude/longitude. \n",
    "3. Apartments for rent with descriptions of their location, bedrooms, and price.\n",
    "4. Neighborhoods in Manhattan with restaurants, entertainment, etc (venues)."
   ]
  },
  {
   "cell_type": "markdown",
   "metadata": {},
   "source": [
    "## Sources to Obtain Data:"
   ]
  },
  {
   "cell_type": "markdown",
   "metadata": {},
   "source": [
    "The location of neighborhoods and their latitude/longitude will be collected from the csv file 'mh_neigh_data.csv' that was found from an open source. The file will be read directly into Jupyter Notebook.\n",
    "The information on Manhattan subway stations was scraped from the following Wikipedia page: 'https://en.wikipedia.org/wiki/List_of_New_York_City_Subway_stations_in_Manhattan'. Using this and Geopy data, we will form a list of subway stations and their addresses. \n",
    "Finally, a list of rental locations was compiled from various real estate listings in Manhattan from common rental websites. The information was compiled with descriptions of location, bedrooms, and price, and converted into a csv file. This file will be read directly into Jupyter Notebook."
   ]
  },
  {
   "cell_type": "markdown",
   "metadata": {},
   "source": [
    "## Approach to Problem:"
   ]
  },
  {
   "cell_type": "markdown",
   "metadata": {},
   "source": [
    "I will resolve the problem by using Geopy data to map the venues for all Manhattan neighborhoods. I will then cluster them into groups. Similarly, I will use Geopy data to map the location of subway stations, on top of the map containing clusters of venues. I will continue to map the Geopy data for the location of rental places, including their average rental price, distance to a subway station, and distance to venues. I will find and convert the data using Nominatim and Geopy. Most data will be found from open sources such as Wikipedia, rental websites, etc.\n"
   ]
  },
  {
   "cell_type": "code",
   "execution_count": null,
   "metadata": {},
   "outputs": [],
   "source": []
  }
 ],
 "metadata": {
  "kernelspec": {
   "display_name": "Python 3",
   "language": "python",
   "name": "python3"
  },
  "language_info": {
   "codemirror_mode": {
    "name": "ipython",
    "version": 3
   },
   "file_extension": ".py",
   "mimetype": "text/x-python",
   "name": "python",
   "nbconvert_exporter": "python",
   "pygments_lexer": "ipython3",
   "version": "3.7.6"
  }
 },
 "nbformat": 4,
 "nbformat_minor": 4
}
