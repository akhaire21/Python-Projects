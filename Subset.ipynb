{
  "nbformat": 4,
  "nbformat_minor": 0,
  "metadata": {
    "colab": {
      "name": "Subset.ipynb",
      "provenance": [],
      "authorship_tag": "ABX9TyOig/8//c3F4nWXsqiBPeAY"
    },
    "kernelspec": {
      "name": "python3",
      "display_name": "Python 3"
    },
    "language_info": {
      "name": "python"
    }
  },
  "cells": [
    {
      "cell_type": "code",
      "metadata": {
        "id": "_8yX70uOPruG"
      },
      "source": [
        "TOLERANCE = 1e-6\n",
        "def close_enough(x,y):\n",
        "    return abs(x - y) < TOLERANCE\n",
        "def run_test(function, expected, args):\n",
        "    print(f\"args = {args}\")\n",
        "    if(len(args) == 1):\n",
        "        print(\"made it into the if statement\")\n",
        "        args = args[0]\n",
        "        print(f\"args = {args}\")\n",
        "        if function(args) == expected:\n",
        "            print(f\"PASS for case {args}\")\n",
        "        else:\n",
        "            print(f\"FAIL because f({args}) != {expected}\")\n",
        "    else:\n",
        "        if function(*args) == expected:\n",
        "            print(f\"PASS for case {args}\")\n",
        "        else:\n",
        "            print(f\"FAIL because f({args}) != {expected}\")\n",
        "def run_test_float(function, expected, args):\n",
        "    if(type(args) == list and len(args) == 1):\n",
        "        args = args[0]\n",
        "        if close_enough(function(args), expected):\n",
        "            print(f\"PASS for case {args}\")\n",
        "        else:\n",
        "            print(f\"FAIL because f({args}) != {expected}\")\n",
        "        return\n",
        "    else:\n",
        "        if close_enough(function(*args), expected):\n",
        "            print(f\"PASS for case {args}\")\n",
        "        else:\n",
        "            print(f\"FAIL because f({args}) != {expected}\")"
      ],
      "execution_count": 1,
      "outputs": []
    },
    {
      "cell_type": "code",
      "metadata": {
        "id": "mibDCdZRP8fV"
      },
      "source": [
        "###################Problem 7################\n",
        "\"\"\"prec:  n is an integer, x is a list of integers.\n",
        "postc: returns a sublist of x whose sum is n if it exists\n",
        "and the graveyard object None otherwise.  \"\"\"\n",
        "############################################\n",
        "\n",
        "def sum_from(n, x):\n",
        "    ln = len(x)\n",
        "    # Base Cases \n",
        "    # If target integer is zero, return empty list\n",
        "    if (n == 0) : \n",
        "        return []\n",
        "    # not found\n",
        "    # if x list of integers is empty and target integer n >0 then return None\n",
        "    if (ln == 0 and n != 0) : \n",
        "        return None\n",
        "\n",
        "    # If last element is greater than target integer, then ignore it \n",
        "    if (x[ln - 1] > n) : \n",
        "        return sum_from(n, x[0:ln-1]); \n",
        "\n",
        "    # else, check if sum can be obtained by any of the following \n",
        "    # (a) including the last element \n",
        "    # (b) excluding the last element    \n",
        "    a1 = sum_from(n, x[0:ln-1])\n",
        "\n",
        "    # (b) excluding last element fails\n",
        "    if a1 is None:\n",
        "        a2 = sum_from(n-x[ln-1], x[0:ln-1])\n",
        "\n",
        "        # (a) including last element fails\n",
        "        if a2 is None:\n",
        "            return None\n",
        "\n",
        "        # (a) including last element successes\n",
        "        else: return a2 + [x[ln-1]]\n",
        "    else:\n",
        "        return a1"
      ],
      "execution_count": 3,
      "outputs": []
    },
    {
      "cell_type": "code",
      "metadata": {
        "colab": {
          "base_uri": "https://localhost:8080/"
        },
        "id": "TH0prXsVQLAP",
        "outputId": "8082828b-a139-45e6-edd2-2273f2aa16bd"
      },
      "source": [
        "x = [2, 1, 4, 12, 15, 2] \n",
        "n = 9\n",
        "subset = sum_from(n, x) \n",
        "if subset is not None : \n",
        "    print(subset) \n",
        "else : \n",
        "    print(\"No subset with given sum\") "
      ],
      "execution_count": 4,
      "outputs": [
        {
          "output_type": "stream",
          "name": "stdout",
          "text": [
            "[2, 1, 4, 2]\n"
          ]
        }
      ]
    },
    {
      "cell_type": "code",
      "metadata": {
        "colab": {
          "base_uri": "https://localhost:8080/"
        },
        "id": "lfkLD99IQVJc",
        "outputId": "c7828b90-e7c8-4e31-c1df-f53538794228"
      },
      "source": [
        "run_test(sum_from, [1,5,14], (20, [1,5,81,14]))\n",
        "print(\"\")\n",
        "run_test(sum_from, None, (21, [1,5,81,14]))\n",
        "print(\"\")\n",
        "run_test(sum_from, [1,5,14], (21, [1,5,81,14]))"
      ],
      "execution_count": 7,
      "outputs": [
        {
          "output_type": "stream",
          "name": "stdout",
          "text": [
            "args = (20, [1, 5, 81, 14])\n",
            "PASS for case (20, [1, 5, 81, 14])\n",
            "\n",
            "args = (21, [1, 5, 81, 14])\n",
            "PASS for case (21, [1, 5, 81, 14])\n",
            "\n",
            "args = (21, [1, 5, 81, 14])\n",
            "FAIL because f((21, [1, 5, 81, 14])) != [1, 5, 14]\n"
          ]
        }
      ]
    }
  ]
}